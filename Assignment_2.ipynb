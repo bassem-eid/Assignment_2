{
  "cells": [
    {
      "cell_type": "markdown",
      "metadata": {
        "id": "zICmOr3xM7P3"
      },
      "source": [
        "**Write a Python function to perform linear search on a list**"
      ]
    },
    {
      "cell_type": "code",
      "execution_count": null,
      "metadata": {
        "id": "OHAie4ZsNkge"
      },
      "outputs": [],
      "source": [
        "def linear_search(lst, target):\n",
        "    for i in range(len(lst)):\n",
        "        if lst[i] == target:\n",
        "            return i\n",
        "    return -1"
      ]
    },
    {
      "cell_type": "markdown",
      "metadata": {
        "id": "9gt2NeSINAee"
      },
      "source": [
        "**Modify the function to return the index of all occurrences of the search element.\n",
        "t**"
      ]
    },
    {
      "cell_type": "code",
      "execution_count": null,
      "metadata": {
        "id": "Drr34lZZNlcd"
      },
      "outputs": [],
      "source": [
        "def linear_search_all_occurrences(lst, target):\n",
        "    indices = []\n",
        "    for i in range(len(lst)):\n",
        "        if lst[i] == target:\n",
        "            indices.append(i)\n",
        "    return indices\n"
      ]
    },
    {
      "cell_type": "markdown",
      "metadata": {
        "id": "15VW81ZmNnYt"
      },
      "source": [
        "**Create a program to find the maximum element in a list using linear search.**"
      ]
    },
    {
      "cell_type": "code",
      "execution_count": null,
      "metadata": {
        "id": "Cv04SYmZNvfU"
      },
      "outputs": [],
      "source": [
        "def find_max(lst):\n",
        "    max_element = lst[0]\n",
        "    for element in lst:\n",
        "        if element > max_element:\n",
        "            max_element = element\n",
        "    return max_element\n"
      ]
    },
    {
      "cell_type": "markdown",
      "metadata": {
        "id": "CC1d9lWHNy4G"
      },
      "source": [
        "**Implement binary search iteratively in Python**"
      ]
    },
    {
      "cell_type": "code",
      "execution_count": null,
      "metadata": {
        "id": "qNlprj2ON2sN"
      },
      "outputs": [],
      "source": [
        "def binary_search_iterative(lst, target):\n",
        "    left, right = 0, len(lst) - 1\n",
        "    while left <= right:\n",
        "        mid = (left + right) // 2\n",
        "        if lst[mid] == target:\n",
        "            return mid\n",
        "        elif lst[mid] < target:\n",
        "            left = mid + 1\n",
        "        else:\n",
        "            right = mid - 1\n",
        "    return -1\n"
      ]
    },
    {
      "cell_type": "markdown",
      "metadata": {
        "id": "zdFByPpjN9VF"
      },
      "source": [
        "**Implement binary search recursively in Python**"
      ]
    },
    {
      "cell_type": "code",
      "execution_count": null,
      "metadata": {
        "id": "-ukDAxmLOAh9"
      },
      "outputs": [],
      "source": [
        "def binary_search_recursive(lst, target, left, right):\n",
        "    if left > right:\n",
        "        return -1\n",
        "    mid = (left + right) // 2\n",
        "    if lst[mid] == target:\n",
        "        return mid\n",
        "    elif lst[mid] < target:\n",
        "        return binary_search_recursive(lst, target, mid + 1, right)\n",
        "    else:\n",
        "        return binary_search_recursive(lst, target, left, mid - 1)\n"
      ]
    },
    {
      "cell_type": "markdown",
      "metadata": {
        "id": "XfCbhOl7ODkc"
      },
      "source": [
        "**Write a program to check if a list is sorted in ascending order using binary search**"
      ]
    },
    {
      "cell_type": "code",
      "execution_count": null,
      "metadata": {
        "id": "f4I1O1IhOGEd"
      },
      "outputs": [],
      "source": [
        "def is_sorted(lst):\n",
        "    for i in range(len(lst) - 1):\n",
        "        if lst[i] > lst[i + 1]:\n",
        "            return False\n",
        "    return True\n"
      ]
    },
    {
      "cell_type": "markdown",
      "metadata": {
        "id": "5AxShFTYOI90"
      },
      "source": [
        "**Write a Python program to calculate the factorial of a number using a for loop**"
      ]
    },
    {
      "cell_type": "code",
      "execution_count": null,
      "metadata": {
        "id": "klPJU-ktOL99"
      },
      "outputs": [],
      "source": [
        "def factorial(n):\n",
        "    result = 1\n",
        "    for i in range(1, n + 1):\n",
        "        result += i\n",
        "    return result\n"
      ]
    },
    {
      "cell_type": "markdown",
      "metadata": {
        "id": "zSD3eH32OOzk"
      },
      "source": [
        "**Create a program to generate the Fibonacci sequence up to a certain number of terms using a for loop**"
      ]
    },
    {
      "cell_type": "code",
      "execution_count": null,
      "metadata": {
        "id": "dz4mWwn-OSG0"
      },
      "outputs": [],
      "source": [
        "def generate_fibonacci(n):\n",
        "    fib_sequence = [0, 1]\n",
        "    for i in range(2, n):\n",
        "        next_term = fib_sequence[i-1] + fib_sequence[i-2]\n",
        "        fib_sequence.append(next_term)\n",
        "    return fib_sequence\n"
      ]
    },
    {
      "cell_type": "markdown",
      "metadata": {
        "id": "e7q768hsOUvs"
      },
      "source": [
        "**Write a function to compute the sum of all elements in a list using a for loop**"
      ]
    },
    {
      "cell_type": "code",
      "execution_count": null,
      "metadata": {
        "id": "hbJ3q5GDOXc0"
      },
      "outputs": [],
      "source": [
        "def sum_list(lst):\n",
        "    total = 0\n",
        "    for element in lst:\n",
        "        total += element\n",
        "    return total\n"
      ]
    },
    {
      "cell_type": "markdown",
      "metadata": {
        "id": "Xc87j9nmObmM"
      },
      "source": [
        "**Write a Python function to check if a number is prime**"
      ]
    },
    {
      "cell_type": "code",
      "execution_count": null,
      "metadata": {
        "id": "VmxNLFacOfFk"
      },
      "outputs": [],
      "source": [
        "def is_prime(n):\n",
        "    if n <= 1:\n",
        "        return False\n",
        "    for i in range(2, int(n**0.5) + 1):\n",
        "        if n % i == 0:\n",
        "            return False\n",
        "    return True\n"
      ]
    },
    {
      "cell_type": "markdown",
      "metadata": {
        "id": "fPpLblWXOhDU"
      },
      "source": [
        "**Create a function to reverse a string using recursion**"
      ]
    },
    {
      "cell_type": "code",
      "execution_count": null,
      "metadata": {
        "id": "ysB4Q620Oj40"
      },
      "outputs": [],
      "source": [
        "def reverse_string(s):\n",
        "    if len(s) == 0:\n",
        "        return s\n",
        "    return s[-1] + reverse_string(s[:-1])\n"
      ]
    },
    {
      "cell_type": "markdown",
      "metadata": {
        "id": "4qLP9xYTOltk"
      },
      "source": [
        "**Write a program that takes a list of integers and returns the largest number using a function**"
      ]
    },
    {
      "cell_type": "code",
      "execution_count": null,
      "metadata": {
        "id": "9wJQseoeOnis"
      },
      "outputs": [],
      "source": [
        "def find_largest(lst):\n",
        "    return max(lst)\n"
      ]
    },
    {
      "cell_type": "markdown",
      "metadata": {
        "id": "2ds4zQmGOpv0"
      },
      "source": [
        "**Implement selection sort using a function and demonstrate its usage**"
      ]
    },
    {
      "cell_type": "code",
      "execution_count": null,
      "metadata": {
        "id": "rYSs7DnOasEJ"
      },
      "outputs": [],
      "source": [
        "def selection_sort(lst):\n",
        "    for i in range(len(lst)):\n",
        "        min_idx = i\n",
        "        for j in range(i+1, len(lst)):\n",
        "            if lst[j] < lst[min_idx]:\n",
        "                min_idx = j\n",
        "        lst[i], lst[min_idx] = lst[min_idx], lst[i]\n",
        "    return lst\n"
      ]
    },
    {
      "cell_type": "markdown",
      "metadata": {
        "id": "9d9LdXoRatvh"
      },
      "source": [
        "**Create a program that uses a function to find the intersection of two lists.**"
      ]
    },
    {
      "cell_type": "code",
      "execution_count": null,
      "metadata": {
        "id": "r09e5Opsaw8Z"
      },
      "outputs": [],
      "source": [
        "def find_intersection(lst1, lst2):\n",
        "    return list(set(lst1) & set(lst2))"
      ]
    }
  ],
  "metadata": {
    "colab": {
      "provenance": []
    },
    "kernelspec": {
      "display_name": "Python 3",
      "name": "python3"
    },
    "language_info": {
      "name": "python"
    }
  },
  "nbformat": 4,
  "nbformat_minor": 0
}
